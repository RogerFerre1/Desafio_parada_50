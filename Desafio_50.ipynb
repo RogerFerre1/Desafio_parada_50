{
 "cells": [
  {
   "cell_type": "code",
   "execution_count": 20,
   "metadata": {},
   "outputs": [
    {
     "name": "stdout",
     "output_type": "stream",
     "text": [
      "Contagem de vogais: {'a': 109, 'e': 64, 'i': 33, 'o': 92, 'u': 41, 'á': 0, 'é': 11, 'í': 0, 'ó': 0, 'ú': 0, 'â': 0, 'ê': 4, 'î': 0, 'ô': 0, 'û': 0, 'ã': 3, 'õ': 0, 'à': 0}\n"
     ]
    }
   ],
   "source": [
    "def contar_vogais(nome_arquivo):\n",
    "    contagem_vogais = {\n",
    "        \"a\": 0, \"e\": 0, \"i\": 0, \"o\": 0, \"u\": 0,\n",
    "        \"á\": 0, \"é\": 0, \"í\": 0, \"ó\": 0, \"ú\": 0,\n",
    "        \"â\": 0, \"ê\": 0, \"î\": 0, \"ô\": 0, \"û\": 0,\n",
    "        \"ã\": 0, \"õ\": 0, \"à\": 0\n",
    "    }\n",
    "    \n",
    "    with open('exagerado_letra.txt', 'r', encoding='utf-8') as arquivo:\n",
    "        texto = arquivo.read().lower()  \n",
    "    \n",
    "    for letra in texto:\n",
    "        if letra in contagem_vogais:\n",
    "            contagem_vogais[letra] += 1\n",
    "    \n",
    "    return contagem_vogais\n",
    "\n",
    "\n",
    "nome_arquivo = 'exagerado_letra.txt'\n",
    "resultado = contar_vogais(nome_arquivo)\n",
    "print(\"Contagem de vogais:\", resultado)\n"
   ]
  }
 ],
 "metadata": {
  "kernelspec": {
   "display_name": "Python 3",
   "language": "python",
   "name": "python3"
  },
  "language_info": {
   "codemirror_mode": {
    "name": "ipython",
    "version": 3
   },
   "file_extension": ".py",
   "mimetype": "text/x-python",
   "name": "python",
   "nbconvert_exporter": "python",
   "pygments_lexer": "ipython3",
   "version": "3.12.4"
  }
 },
 "nbformat": 4,
 "nbformat_minor": 2
}
